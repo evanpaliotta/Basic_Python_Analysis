{
 "cells": [
  {
   "cell_type": "code",
   "execution_count": 91,
   "metadata": {},
   "outputs": [],
   "source": [
    "#Import csv \n",
    "from pathlib import Path\n",
    "import csv"
   ]
  },
  {
   "cell_type": "code",
   "execution_count": 92,
   "metadata": {},
   "outputs": [],
   "source": [
    "#Set the File Path\n",
    "csvpath = Path('budget_data.csv')"
   ]
  },
  {
   "cell_type": "code",
   "execution_count": 93,
   "metadata": {},
   "outputs": [],
   "source": [
    "#Initialize Variables as Empty Lists\n",
    "pnl = []\n",
    "dates = []"
   ]
  },
  {
   "cell_type": "code",
   "execution_count": 94,
   "metadata": {},
   "outputs": [],
   "source": [
    "#Open the File\n",
    "with open(csvpath, newline='') as csvfile:\n",
    "    csvreader = csv.reader(csvfile)\n",
    "    next(csvreader)\n",
    "#Appending each row \n",
    "    for row in csvreader:\n",
    "        pnl.append(row[1])\n",
    "        dates.append(row[0])"
   ]
  },
  {
   "cell_type": "code",
   "execution_count": 95,
   "metadata": {},
   "outputs": [],
   "source": [
    "#Calculate Total Months\n",
    "total_months = len(dates)"
   ]
  },
  {
   "cell_type": "code",
   "execution_count": 96,
   "metadata": {},
   "outputs": [],
   "source": [
    "#Calculate Total\n",
    "pnl = list(map(int,pnl))\n",
    "total = sum(pnl)"
   ]
  },
  {
   "cell_type": "code",
   "execution_count": 97,
   "metadata": {},
   "outputs": [],
   "source": [
    "#Initialize Dictionary to Hold Change Values\n",
    "changes = {}"
   ]
  },
  {
   "cell_type": "code",
   "execution_count": 98,
   "metadata": {},
   "outputs": [],
   "source": [
    "#Update the Dictionary\n",
    "for index in range(len(pnl)-1):\n",
    "    changes[dates[index + 1]] = (pnl[index+1] - pnl[index])"
   ]
  },
  {
   "cell_type": "code",
   "execution_count": 99,
   "metadata": {},
   "outputs": [],
   "source": [
    "#Calculate Average Change\n",
    "average_change = round(sum(changes.values())/len(changes), 2)"
   ]
  },
  {
   "cell_type": "code",
   "execution_count": 100,
   "metadata": {},
   "outputs": [],
   "source": [
    "#Calculate Minimum and Maximum Change\n",
    "current_max = ('current_max',0)\n",
    "current_min = ('current_min',0)\n",
    "for i in changes.items():\n",
    "    if i[1] > current_max[1]:\n",
    "        current_max = i\n",
    "    if i[1] < current_min[1]:\n",
    "        current_min = i\n",
    "max_change = current_max\n",
    "min_change = current_min"
   ]
  },
  {
   "cell_type": "code",
   "execution_count": 101,
   "metadata": {},
   "outputs": [
    {
     "name": "stdout",
     "output_type": "stream",
     "text": [
      "Financial Analysis\n",
      "------------------------\n",
      "Total Months: 86\n",
      "Total: $38382578\n",
      "Average Change: $-2315.12\n",
      "Greatest increase in profits: Feb-2012 (1926159)\n",
      "Greatest decrease in profits: Sep-2013 (-2196167)\n"
     ]
    }
   ],
   "source": [
    "#Print Financial Analysis\n",
    "print (\"Financial Analysis\")\n",
    "print (\"------------------------\")\n",
    "print (f\"Total Months: {total_months}\")\n",
    "print (f\"Total: ${total}\")\n",
    "print (f\"Average Change: ${average_change}\")\n",
    "print(\"Greatest increase in profits: {} ({})\".format(max_change[0], max_change[1]))\n",
    "print(\"Greatest decrease in profits: {} ({})\".format(min_change[0], min_change[1]))"
   ]
  },
  {
   "cell_type": "code",
   "execution_count": 102,
   "metadata": {},
   "outputs": [],
   "source": [
    "#Write a File to Export Results\n",
    "f= open(\"PyBank_Financial_Analysis.txt\",\"w+\")\n",
    "f.write(\"Financial Analysis\" + \"\\n\")\n",
    "f.write(\"----------------------------\" + \"\\n\")\n",
    "f.write(\"Total Months:\" + \" \" + str(total_months) + \"\\n\")\n",
    "f.write(\"Total:\" + \" \" + \"$\" + str(total) + \"\\n\")\n",
    "f.write(\"Average Change:\" + \" \" + str(average_change) + \"\\n\")\n",
    "f.write(\"Greatest Increase in Profits:\" + \" \" + \" \" + str(max_change) + \"\\n\")\n",
    "f.write(\"Greatest Decrease in Profits:\" + \" \" + \" \" + str(min_change) +\"\\n\")\n",
    "f.close()"
   ]
  },
  {
   "cell_type": "code",
   "execution_count": null,
   "metadata": {},
   "outputs": [],
   "source": []
  }
 ],
 "metadata": {
  "kernelspec": {
   "display_name": "Python 3",
   "language": "python",
   "name": "python3"
  },
  "language_info": {
   "codemirror_mode": {
    "name": "ipython",
    "version": 3
   },
   "file_extension": ".py",
   "mimetype": "text/x-python",
   "name": "python",
   "nbconvert_exporter": "python",
   "pygments_lexer": "ipython3",
   "version": "3.7.4"
  }
 },
 "nbformat": 4,
 "nbformat_minor": 4
}
